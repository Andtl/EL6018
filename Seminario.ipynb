{
 "cells": [
  {
   "cell_type": "code",
   "execution_count": 1,
   "metadata": {},
   "outputs": [],
   "source": [
    "import unittest\n",
    "import os.path\n",
    "\n",
    "import soft1"
   ]
  },
  {
   "cell_type": "code",
   "execution_count": 9,
   "metadata": {},
   "outputs": [
    {
     "name": "stdout",
     "output_type": "stream",
     "text": [
      "[('new entry',), ('new entry',), ('new entry',)]\n"
     ]
    }
   ],
   "source": [
    "\n",
    "BDFILE = 'progeria.sqlite'\n",
    "TABLA = 'megatabla'\n",
    "CAMPO = 'texto_random'\n",
    "txt='new entry'\n",
    "salida=soft1.leer_BD(BDFILE,TABLA)\n",
    "print(salida)"
   ]
  },
  {
   "cell_type": "code",
   "execution_count": 24,
   "metadata": {},
   "outputs": [
    {
     "data": {
      "text/plain": [
       "False"
      ]
     },
     "execution_count": 24,
     "metadata": {},
     "output_type": "execute_result"
    }
   ],
   "source": []
  },
  {
   "cell_type": "code",
   "execution_count": 26,
   "metadata": {},
   "outputs": [
    {
     "name": "stdout",
     "output_type": "stream",
     "text": [
      "j\n"
     ]
    }
   ],
   "source": []
  },
  {
   "cell_type": "code",
   "execution_count": 7,
   "metadata": {},
   "outputs": [],
   "source": [
    "\n",
    "\n",
    "class Test(unittest.TestCase):\n",
    "    \n",
    "    def test_crear_DB(self):\n",
    "        BDFILE = 'progeria.sqlite'\n",
    "        TABLA = 'megatabla'\n",
    "        CAMPO = 'texto_random'\n",
    "        TIPO = 'VARCHAR(200)'\n",
    "        soft1.crear_BD(BDFILE,TABLA,CAMPO,TIPO)\n",
    "        self.assertTrue(os.path.isfile(BDFILE))\n",
    "\n",
    "    def test_IO_BD(self):\n",
    "        BDFILE = 'progeria.sqlite'\n",
    "        TABLA = 'megatabla'\n",
    "        CAMPO = 'texto_random'\n",
    "        txt='new entry'\n",
    "        soft1.escribir_DB(txt,BDFILE,TABLA,CAMPO)\n",
    "        salida=soft1.leer_BD(BDFILE,TABLA)\n",
    "        self.assertTrue(txt==salida[-1][0])\n"
   ]
  },
  {
   "cell_type": "code",
   "execution_count": 8,
   "metadata": {},
   "outputs": [
    {
     "name": "stderr",
     "output_type": "stream",
     "text": [
      "E\n",
      "======================================================================\n",
      "ERROR: /run/user/1000/jupyter/kernel-59652682-66e2-4764-8665-0175e7481570 (unittest.loader._FailedTest)\n",
      "----------------------------------------------------------------------\n",
      "AttributeError: module '__main__' has no attribute '/run/user/1000/jupyter/kernel-59652682-66e2-4764-8665-0175e7481570'\n",
      "\n",
      "----------------------------------------------------------------------\n",
      "Ran 1 test in 0.001s\n",
      "\n",
      "FAILED (errors=1)\n"
     ]
    },
    {
     "ename": "SystemExit",
     "evalue": "True",
     "output_type": "error",
     "traceback": [
      "An exception has occurred, use %tb to see the full traceback.\n",
      "\u001b[0;31mSystemExit\u001b[0m\u001b[0;31m:\u001b[0m True\n"
     ]
    },
    {
     "name": "stderr",
     "output_type": "stream",
     "text": [
      "/home/andres/.local/lib/python3.6/site-packages/IPython/core/interactiveshell.py:2971: UserWarning: To exit: use 'exit', 'quit', or Ctrl-D.\n",
      "  warn(\"To exit: use 'exit', 'quit', or Ctrl-D.\", stacklevel=1)\n"
     ]
    }
   ],
   "source": [
    "unittest.main()"
   ]
  },
  {
   "cell_type": "code",
   "execution_count": null,
   "metadata": {},
   "outputs": [],
   "source": []
  }
 ],
 "metadata": {
  "kernelspec": {
   "display_name": "Python 3",
   "language": "python",
   "name": "python3"
  },
  "language_info": {
   "codemirror_mode": {
    "name": "ipython",
    "version": 3
   },
   "file_extension": ".py",
   "mimetype": "text/x-python",
   "name": "python",
   "nbconvert_exporter": "python",
   "pygments_lexer": "ipython3",
   "version": "3.6.4"
  }
 },
 "nbformat": 4,
 "nbformat_minor": 2
}
